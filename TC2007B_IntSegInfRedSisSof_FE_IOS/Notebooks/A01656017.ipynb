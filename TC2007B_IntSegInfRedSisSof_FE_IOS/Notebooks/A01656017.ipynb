{
 "cells": [
  {
   "cell_type": "markdown",
   "id": "fe282c13-2473-4c3d-9628-8fc79cf5f1d0",
   "metadata": {},
   "source": [
    "# Alejandro Pozos Aguirre"
   ]
  },
  {
   "cell_type": "code",
   "execution_count": 6,
   "id": "66bef49b-d980-46ee-bc4c-b53dcb2c25b9",
   "metadata": {},
   "outputs": [
    {
     "name": "stdout",
     "output_type": "stream",
     "text": [
      "Hola, Mundo\n"
     ]
    }
   ],
   "source": [
    "print(\"Hola, Mundo\");"
   ]
  },
  {
   "cell_type": "markdown",
   "id": "d9c4b0e2-6db7-43e7-bd39-d67a9906cc3a",
   "metadata": {},
   "source": [
    "Suma de 5 números"
   ]
  },
  {
   "cell_type": "code",
   "execution_count": 5,
   "id": "feb61c34-7aff-4955-8feb-9fafb791ecd8",
   "metadata": {},
   "outputs": [
    {
     "name": "stdout",
     "output_type": "stream",
     "text": [
      "0\n",
      "1\n",
      "3\n"
     ]
    }
   ],
   "source": [
    "sum = 0\n",
    "for i in range(3):\n",
    "    sum = i + sum\n",
    "    print(sum)"
   ]
  }
 ],
 "metadata": {
  "kernelspec": {
   "display_name": "Python 3 (ipykernel)",
   "language": "python",
   "name": "python3"
  },
  "language_info": {
   "codemirror_mode": {
    "name": "ipython",
    "version": 3
   },
   "file_extension": ".py",
   "mimetype": "text/x-python",
   "name": "python",
   "nbconvert_exporter": "python",
   "pygments_lexer": "ipython3",
   "version": "3.11.0"
  }
 },
 "nbformat": 4,
 "nbformat_minor": 5
}
