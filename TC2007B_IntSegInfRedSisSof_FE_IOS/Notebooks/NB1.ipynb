{
 "cells": [
  {
   "cell_type": "markdown",
   "id": "1538d758",
   "metadata": {},
   "source": [
    "# Get the repo for the Mobile FE(App)\n",
    "\n",
    "* [Integración de seguridad informática en redes y sistemas de software.](https://github.com/TeacherISM/TC2007B_IntSegInfRedSisSof_FE_IOS)\n",
    "    * iOS(Swift) Mobile Front-End(App)"
   ]
  },
  {
   "cell_type": "markdown",
   "id": "95b6c1ad",
   "metadata": {},
   "source": [
    "# Tech-Stack\n",
    "\n",
    "* [Git](https://git-scm.com/)\n",
    "* [GitHub](https://github.com/)\n",
    "* [Markdown](https://docs.github.com/es/get-started/writing-on-github/getting-started-with-writing-and-formatting-on-github/basic-writing-and-formatting-syntax)\n",
    "* [Swift](https://www.apple.com/mx/swift/)\n",
    "* [iOS](https://www.apple.com/mx/ios/ios-16/)"
   ]
  },
  {
   "cell_type": "code",
   "execution_count": null,
   "id": "4fe3df13",
   "metadata": {},
   "outputs": [],
   "source": []
  }
 ],
 "metadata": {
  "kernelspec": {
   "display_name": "Python 3 (ipykernel)",
   "language": "python",
   "name": "python3"
  },
  "language_info": {
   "codemirror_mode": {
    "name": "ipython",
    "version": 3
   },
   "file_extension": ".py",
   "mimetype": "text/x-python",
   "name": "python",
   "nbconvert_exporter": "python",
   "pygments_lexer": "ipython3",
   "version": "3.9.12"
  }
 },
 "nbformat": 4,
 "nbformat_minor": 5
}
