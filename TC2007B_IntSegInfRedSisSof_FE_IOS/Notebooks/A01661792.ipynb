{
 "cells": [
  {
   "cell_type": "markdown",
   "id": "e88376db-32de-4f16-8124-8e62eb90b662",
   "metadata": {},
   "source": [
    "# Ejercicio de subir a branch"
   ]
  },
  {
   "cell_type": "code",
   "execution_count": 2,
   "id": "dc9d4913-4bd9-4a47-96b5-58b8edf01ca0",
   "metadata": {},
   "outputs": [
    {
     "name": "stdout",
     "output_type": "stream",
     "text": [
      "hola de nuevo\n"
     ]
    }
   ],
   "source": [
    "print (\"hola de nuevo\")"
   ]
  }
 ],
 "metadata": {
  "kernelspec": {
   "display_name": "Python 3 (ipykernel)",
   "language": "python",
   "name": "python3"
  },
  "language_info": {
   "codemirror_mode": {
    "name": "ipython",
    "version": 3
   },
   "file_extension": ".py",
   "mimetype": "text/x-python",
   "name": "python",
   "nbconvert_exporter": "python",
   "pygments_lexer": "ipython3",
   "version": "3.11.0"
  }
 },
 "nbformat": 4,
 "nbformat_minor": 5
}
