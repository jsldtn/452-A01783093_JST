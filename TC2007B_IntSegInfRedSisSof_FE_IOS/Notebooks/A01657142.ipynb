{
 "cells": [
  {
   "cell_type": "markdown",
   "id": "28f8adb7-7015-45d3-aa08-3c8d29136d90",
   "metadata": {},
   "source": [
    "## José Aram Méndez Gómez A01657142 "
   ]
  },
  {
   "cell_type": "code",
   "execution_count": 4,
   "id": "98d4e47b-5c0d-4d1a-9047-29d5825f6e5f",
   "metadata": {},
   "outputs": [],
   "source": [
    "def twoNumberSum(array, targetSum):\n",
    "    nums = {}\n",
    "    \n",
    "    for num in array:\n",
    "        potentialMatch  = targetSum - num\n",
    "        if potentialMatch in nums:\n",
    "            return [potentialMatch, num]\n",
    "        else:\n",
    "            nums[num] = True\n",
    "    return []"
   ]
  },
  {
   "cell_type": "code",
   "execution_count": 5,
   "id": "f9e49059-39df-4a08-be40-256c5d39091d",
   "metadata": {},
   "outputs": [
    {
     "name": "stdout",
     "output_type": "stream",
     "text": [
      "[11, -1]\n"
     ]
    }
   ],
   "source": [
    "arr = [3, 5, -4, 8, 11, 1, -1, 6]\n",
    "res = twoNumberSum(arr, 10)\n",
    "print(res)"
   ]
  }
 ],
 "metadata": {
  "kernelspec": {
   "display_name": "Python 3 (ipykernel)",
   "language": "python",
   "name": "python3"
  },
  "language_info": {
   "codemirror_mode": {
    "name": "ipython",
    "version": 3
   },
   "file_extension": ".py",
   "mimetype": "text/x-python",
   "name": "python",
   "nbconvert_exporter": "python",
   "pygments_lexer": "ipython3",
   "version": "3.9.12"
  }
 },
 "nbformat": 4,
 "nbformat_minor": 5
}
