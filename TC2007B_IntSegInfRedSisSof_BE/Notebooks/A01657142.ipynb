{
 "cells": [
  {
   "cell_type": "markdown",
   "id": "8e09529c-01dc-4b7b-914a-773697c27848",
   "metadata": {},
   "source": [
    "## José Aram Méndez Gómez A01657142 😮‍💨"
   ]
  },
  {
   "cell_type": "code",
   "execution_count": 8,
   "id": "7ab6dd93-1aab-4ea9-81dc-7ea02c87e4bd",
   "metadata": {},
   "outputs": [
    {
     "name": "stdout",
     "output_type": "stream",
     "text": [
      "Hello World!\n"
     ]
    }
   ],
   "source": [
    "print(\"Hello World!\")"
   ]
  },
  {
   "cell_type": "code",
   "execution_count": 1,
   "id": "15e4c91f-d82b-41be-b6be-98cd2ef832c4",
   "metadata": {},
   "outputs": [
    {
     "name": "stdout",
     "output_type": "stream",
     "text": [
      "I've successfully created a branch!\n"
     ]
    }
   ],
   "source": [
    "print(\"I've successfully created a branch!\")"
   ]
  },
  {
   "cell_type": "code",
   "execution_count": null,
   "id": "9ed121a3-2e39-46b5-8cc1-bdf18de561f9",
   "metadata": {},
   "outputs": [],
   "source": []
  }
 ],
 "metadata": {
  "kernelspec": {
   "display_name": "Python 3 (ipykernel)",
   "language": "python",
   "name": "python3"
  },
  "language_info": {
   "codemirror_mode": {
    "name": "ipython",
    "version": 3
   },
   "file_extension": ".py",
   "mimetype": "text/x-python",
   "name": "python",
   "nbconvert_exporter": "python",
   "pygments_lexer": "ipython3",
   "version": "3.9.12"
  }
 },
 "nbformat": 4,
 "nbformat_minor": 5
}
