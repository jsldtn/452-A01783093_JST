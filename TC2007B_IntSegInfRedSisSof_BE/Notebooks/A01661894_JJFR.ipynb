{
 "cells": [
  {
   "cell_type": "markdown",
   "id": "b7191a00",
   "metadata": {},
   "source": [
    "# Josué Fuentes"
   ]
  },
  {
   "cell_type": "code",
   "execution_count": 1,
   "id": "2d7a26a1",
   "metadata": {},
   "outputs": [
    {
     "name": "stdout",
     "output_type": "stream",
     "text": [
      "Hola como tas\n"
     ]
    }
   ],
   "source": [
    "print(\"Hola como tas\")\n",
    "# Suma y resta\n",
    "# Operaciones de suma y resta\n",
    "numero1 = 10\n",
    "numero2 = 5\n",
    "\n",
    "# Suma\n",
    "resultado_suma = numero1 + numero2\n",
    "print(\"Suma:\", resultado_suma)\n",
    "\n",
    "# Resta\n",
    "resultado_resta = numero1 - numero2\n",
    "print(\"Resta:\", resultado_resta)"
   ]
  },
  {
   "cell_type": "code",
   "execution_count": null,
   "id": "dc8b5876",
   "metadata": {},
   "outputs": [],
   "source": []
  }
 ],
 "metadata": {
  "kernelspec": {
   "display_name": "Python 3 (ipykernel)",
   "language": "python",
   "name": "python3"
  },
  "language_info": {
   "codemirror_mode": {
    "name": "ipython",
    "version": 3
   },
   "file_extension": ".py",
   "mimetype": "text/x-python",
   "name": "python",
   "nbconvert_exporter": "python",
   "pygments_lexer": "ipython3",
   "version": "3.9.13"
  }
 },
 "nbformat": 4,
 "nbformat_minor": 5
}
