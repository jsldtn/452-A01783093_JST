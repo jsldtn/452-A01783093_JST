{
 "cells": [
  {
   "cell_type": "markdown",
   "id": "0d7a730d-7d1c-4256-bb46-d1a021ffda8b",
   "metadata": {},
   "source": [
    "# Sebastián Íñigo López"
   ]
  },
  {
   "cell_type": "code",
   "execution_count": 1,
   "id": "f2034fba-c3e4-4544-9304-558d04b69476",
   "metadata": {},
   "outputs": [
    {
     "name": "stdout",
     "output_type": "stream",
     "text": [
      "Al final si me corrio el notebook\n"
     ]
    }
   ],
   "source": [
    "print(\"Al final si me corrio el notebook\")"
   ]
  },
  {
   "cell_type": "code",
   "execution_count": 2,
   "id": "fac38c6c-90ed-4a52-a9c6-19e3aa0d5f1f",
   "metadata": {},
   "outputs": [
    {
     "name": "stdout",
     "output_type": "stream",
     "text": [
      "Sebastian\n",
      "Iñigo\n",
      "Lopez\n"
     ]
    }
   ],
   "source": [
    "yo = [\"Sebastian\", \"Iñigo\", \"Lopez\"]\n",
    "\n",
    "for name in yo:\n",
    "    print(name)"
   ]
  },
  {
   "cell_type": "code",
   "execution_count": null,
   "id": "1d8739ea-bbeb-4a5a-b308-4058081240c8",
   "metadata": {},
   "outputs": [],
   "source": []
  }
 ],
 "metadata": {
  "kernelspec": {
   "display_name": "Python 3 (ipykernel)",
   "language": "python",
   "name": "python3"
  },
  "language_info": {
   "codemirror_mode": {
    "name": "ipython",
    "version": 3
   },
   "file_extension": ".py",
   "mimetype": "text/x-python",
   "name": "python",
   "nbconvert_exporter": "python",
   "pygments_lexer": "ipython3",
   "version": "3.10.3"
  }
 },
 "nbformat": 4,
 "nbformat_minor": 5
}
