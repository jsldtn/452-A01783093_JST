{
 "cells": [
  {
   "cell_type": "markdown",
   "id": "25b7189b",
   "metadata": {},
   "source": [
    "# Daniel Rong Chen"
   ]
  },
  {
   "cell_type": "code",
   "execution_count": 1,
   "id": "1ea3d95d",
   "metadata": {},
   "outputs": [
    {
     "name": "stdout",
     "output_type": "stream",
     "text": [
      "Hola mundo ejecutado por python\n"
     ]
    }
   ],
   "source": [
    "print(\"Hola mundo ejecutado por python\")"
   ]
  },
  {
   "cell_type": "code",
   "execution_count": null,
   "id": "3fbd74f2",
   "metadata": {},
   "outputs": [],
   "source": []
  }
 ],
 "metadata": {
  "kernelspec": {
   "display_name": "Python 3 (ipykernel)",
   "language": "python",
   "name": "python3"
  },
  "language_info": {
   "codemirror_mode": {
    "name": "ipython",
    "version": 3
   },
   "file_extension": ".py",
   "mimetype": "text/x-python",
   "name": "python",
   "nbconvert_exporter": "python",
   "pygments_lexer": "ipython3",
   "version": "3.9.13"
  }
 },
 "nbformat": 4,
 "nbformat_minor": 5
}
